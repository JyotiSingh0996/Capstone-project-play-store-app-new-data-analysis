{
 "cells": [
  {
   "cell_type": "code",
   "execution_count": 1,
   "id": "6d4d5d08",
   "metadata": {},
   "outputs": [],
   "source": [
    "import numpy as np \n",
    "import pandas as pd \n",
    "import seaborn as sns\n",
    "import matplotlib.pyplot as plt\n",
    "%matplotlib inline\n"
   ]
  },
  {
   "cell_type": "code",
   "execution_count": 2,
   "id": "551b5cc0",
   "metadata": {},
   "outputs": [],
   "source": [
    "from sklearn.model_selection import train_test_split\n",
    "from sklearn.impute import SimpleImputer\n",
    "from sklearn.preprocessing import OneHotEncoder,LabelEncoder\n",
    "from sklearn.preprocessing import MinMaxScaler\n",
    "from sklearn.tree import DecisionTreeClassifier\n"
   ]
  },
  {
   "cell_type": "code",
   "execution_count": 3,
   "id": "a764cbe7",
   "metadata": {},
   "outputs": [],
   "source": [
    "dataset = pd.read_csv('archive.zip')"
   ]
  },
  {
   "cell_type": "code",
   "execution_count": 4,
   "id": "68f68354",
   "metadata": {},
   "outputs": [
    {
     "data": {
      "text/html": [
       "<div>\n",
       "<style scoped>\n",
       "    .dataframe tbody tr th:only-of-type {\n",
       "        vertical-align: middle;\n",
       "    }\n",
       "\n",
       "    .dataframe tbody tr th {\n",
       "        vertical-align: top;\n",
       "    }\n",
       "\n",
       "    .dataframe thead th {\n",
       "        text-align: right;\n",
       "    }\n",
       "</style>\n",
       "<table border=\"1\" class=\"dataframe\">\n",
       "  <thead>\n",
       "    <tr style=\"text-align: right;\">\n",
       "      <th></th>\n",
       "      <th>Unnamed: 0</th>\n",
       "      <th>India GDP - Historical Data</th>\n",
       "      <th>India GDP - Historical Data.1</th>\n",
       "      <th>India GDP - Historical Data.2</th>\n",
       "      <th>India GDP - Historical Data.3</th>\n",
       "    </tr>\n",
       "  </thead>\n",
       "  <tbody>\n",
       "    <tr>\n",
       "      <th>0</th>\n",
       "      <td>NaN</td>\n",
       "      <td>Year</td>\n",
       "      <td>GDP in (Billion) $</td>\n",
       "      <td>Per Capita in rupees</td>\n",
       "      <td>Growth %</td>\n",
       "    </tr>\n",
       "    <tr>\n",
       "      <th>1</th>\n",
       "      <td>0.0</td>\n",
       "      <td>2021</td>\n",
       "      <td>3173.4</td>\n",
       "      <td>182160</td>\n",
       "      <td>8.95</td>\n",
       "    </tr>\n",
       "    <tr>\n",
       "      <th>2</th>\n",
       "      <td>1.0</td>\n",
       "      <td>2020</td>\n",
       "      <td>2667.69</td>\n",
       "      <td>154640</td>\n",
       "      <td>-6.6</td>\n",
       "    </tr>\n",
       "    <tr>\n",
       "      <th>3</th>\n",
       "      <td>2.0</td>\n",
       "      <td>2019</td>\n",
       "      <td>2831.55</td>\n",
       "      <td>165760</td>\n",
       "      <td>3.74</td>\n",
       "    </tr>\n",
       "    <tr>\n",
       "      <th>4</th>\n",
       "      <td>3.0</td>\n",
       "      <td>2018</td>\n",
       "      <td>2702.93</td>\n",
       "      <td>159840</td>\n",
       "      <td>6.45</td>\n",
       "    </tr>\n",
       "  </tbody>\n",
       "</table>\n",
       "</div>"
      ],
      "text/plain": [
       "   Unnamed: 0 India GDP - Historical Data India GDP - Historical Data.1  \\\n",
       "0         NaN                        Year            GDP in (Billion) $   \n",
       "1         0.0                        2021                        3173.4   \n",
       "2         1.0                        2020                       2667.69   \n",
       "3         2.0                        2019                       2831.55   \n",
       "4         3.0                        2018                       2702.93   \n",
       "\n",
       "  India GDP - Historical Data.2 India GDP - Historical Data.3  \n",
       "0          Per Capita in rupees                      Growth %  \n",
       "1                        182160                          8.95  \n",
       "2                        154640                          -6.6  \n",
       "3                        165760                          3.74  \n",
       "4                        159840                          6.45  "
      ]
     },
     "execution_count": 4,
     "metadata": {},
     "output_type": "execute_result"
    }
   ],
   "source": [
    "dataset.head()"
   ]
  },
  {
   "cell_type": "code",
   "execution_count": 5,
   "id": "950e6251",
   "metadata": {},
   "outputs": [
    {
     "data": {
      "text/plain": [
       "Unnamed: 0                       1\n",
       "India GDP - Historical Data      0\n",
       "India GDP - Historical Data.1    0\n",
       "India GDP - Historical Data.2    0\n",
       "India GDP - Historical Data.3    0\n",
       "dtype: int64"
      ]
     },
     "execution_count": 5,
     "metadata": {},
     "output_type": "execute_result"
    }
   ],
   "source": [
    "dataset.isnull().sum()"
   ]
  },
  {
   "cell_type": "code",
   "execution_count": 6,
   "id": "88247cfd",
   "metadata": {},
   "outputs": [],
   "source": [
    "dataset.drop('Unnamed: 0',axis=1,inplace=True)"
   ]
  },
  {
   "cell_type": "code",
   "execution_count": 7,
   "id": "934a1a99",
   "metadata": {},
   "outputs": [
    {
     "data": {
      "text/html": [
       "<div>\n",
       "<style scoped>\n",
       "    .dataframe tbody tr th:only-of-type {\n",
       "        vertical-align: middle;\n",
       "    }\n",
       "\n",
       "    .dataframe tbody tr th {\n",
       "        vertical-align: top;\n",
       "    }\n",
       "\n",
       "    .dataframe thead th {\n",
       "        text-align: right;\n",
       "    }\n",
       "</style>\n",
       "<table border=\"1\" class=\"dataframe\">\n",
       "  <thead>\n",
       "    <tr style=\"text-align: right;\">\n",
       "      <th></th>\n",
       "      <th>Year</th>\n",
       "      <th>GDP in (Billion) $</th>\n",
       "      <th>Per Capita in rupees</th>\n",
       "      <th>Growth %</th>\n",
       "    </tr>\n",
       "  </thead>\n",
       "  <tbody>\n",
       "    <tr>\n",
       "      <th>0</th>\n",
       "      <td>2021</td>\n",
       "      <td>3173.4</td>\n",
       "      <td>182160</td>\n",
       "      <td>8.95</td>\n",
       "    </tr>\n",
       "    <tr>\n",
       "      <th>1</th>\n",
       "      <td>2020</td>\n",
       "      <td>2667.69</td>\n",
       "      <td>154640</td>\n",
       "      <td>-6.6</td>\n",
       "    </tr>\n",
       "    <tr>\n",
       "      <th>2</th>\n",
       "      <td>2019</td>\n",
       "      <td>2831.55</td>\n",
       "      <td>165760</td>\n",
       "      <td>3.74</td>\n",
       "    </tr>\n",
       "    <tr>\n",
       "      <th>3</th>\n",
       "      <td>2018</td>\n",
       "      <td>2702.93</td>\n",
       "      <td>159840</td>\n",
       "      <td>6.45</td>\n",
       "    </tr>\n",
       "    <tr>\n",
       "      <th>4</th>\n",
       "      <td>2017</td>\n",
       "      <td>2651.47</td>\n",
       "      <td>158480</td>\n",
       "      <td>6.8</td>\n",
       "    </tr>\n",
       "  </tbody>\n",
       "</table>\n",
       "</div>"
      ],
      "text/plain": [
       "0  Year GDP in (Billion) $ Per Capita in rupees Growth %\n",
       "0  2021             3173.4               182160     8.95\n",
       "1  2020            2667.69               154640     -6.6\n",
       "2  2019            2831.55               165760     3.74\n",
       "3  2018            2702.93               159840     6.45\n",
       "4  2017            2651.47               158480      6.8"
      ]
     },
     "execution_count": 7,
     "metadata": {},
     "output_type": "execute_result"
    }
   ],
   "source": [
    "dataset.columns = dataset.iloc[0]\n",
    "\n",
    "dataset = dataset.iloc[1:].reset_index(drop=True)\n",
    "\n",
    "dataset.head()"
   ]
  },
  {
   "cell_type": "code",
   "execution_count": 8,
   "id": "c89f8f9e",
   "metadata": {},
   "outputs": [
    {
     "data": {
      "text/plain": [
       "array(['8.95', '-6.6', '3.74', '6.45', '6.8', '8.26', '8', '7.41', '6.39',\n",
       "       '5.46', '5.24', '8.5', '7.86', '3.09', '7.66', '8.06', '7.92',\n",
       "       '3.8', '4.82', '3.84', '8.85', '6.18', '4.05', '7.55', '7.57',\n",
       "       '6.66', '4.75', '5.48', '1.06', '5.53', '5.95', '9.63', '3.97',\n",
       "       '4.78', '5.25', '3.82', '7.29', '3.48', '6.01', '6.74', '-5.24',\n",
       "       '5.71', '7.25', '1.66', '9.15', '1.19', '3.3', '-0.55', '1.64',\n",
       "       '5.16', '6.54', '3.39', '7.83', '-0.06', '-2.64', '7.45', '5.99',\n",
       "       '2.93', '3.72', '0'], dtype=object)"
      ]
     },
     "execution_count": 8,
     "metadata": {},
     "output_type": "execute_result"
    }
   ],
   "source": [
    "dataset['Growth %'].unique()"
   ]
  },
  {
   "cell_type": "code",
   "execution_count": 9,
   "id": "b5fa8a6a",
   "metadata": {},
   "outputs": [
    {
     "data": {
      "text/plain": [
       "'9.63'"
      ]
     },
     "execution_count": 9,
     "metadata": {},
     "output_type": "execute_result"
    }
   ],
   "source": [
    "dataset['Growth %'].max()"
   ]
  },
  {
   "cell_type": "code",
   "execution_count": 72,
   "id": "bb7fd12a",
   "metadata": {},
   "outputs": [
    {
     "name": "stdout",
     "output_type": "stream",
     "text": [
      "<class 'pandas.core.frame.DataFrame'>\n",
      "RangeIndex: 62 entries, 0 to 61\n",
      "Data columns (total 4 columns):\n",
      " #   Column                Non-Null Count  Dtype \n",
      "---  ------                --------------  ----- \n",
      " 0   Year                  62 non-null     int32 \n",
      " 1   GDP in (Billion) $    62 non-null     object\n",
      " 2   Per Capita in rupees  62 non-null     object\n",
      " 3   Growth %              62 non-null     object\n",
      "dtypes: int32(1), object(3)\n",
      "memory usage: 1.8+ KB\n"
     ]
    }
   ],
   "source": [
    "dataset.info()"
   ]
  },
  {
   "cell_type": "code",
   "execution_count": 15,
   "id": "20ab1fa7",
   "metadata": {},
   "outputs": [],
   "source": [
    "y = dataset['GDP in (Billion) $']\n",
    "X = dataset[['Year','Per Capita in rupees','Growth %']]"
   ]
  },
  {
   "cell_type": "code",
   "execution_count": 16,
   "id": "6b130a11",
   "metadata": {},
   "outputs": [
    {
     "data": {
      "text/plain": [
       "(62,)"
      ]
     },
     "execution_count": 16,
     "metadata": {},
     "output_type": "execute_result"
    }
   ],
   "source": [
    "y.shape\n"
   ]
  },
  {
   "cell_type": "code",
   "execution_count": 17,
   "id": "6c9103b6",
   "metadata": {},
   "outputs": [
    {
     "data": {
      "text/plain": [
       "(62, 3)"
      ]
     },
     "execution_count": 17,
     "metadata": {},
     "output_type": "execute_result"
    }
   ],
   "source": [
    "X.shape"
   ]
  },
  {
   "cell_type": "code",
   "execution_count": 18,
   "id": "1b256bd7",
   "metadata": {},
   "outputs": [],
   "source": [
    "X_train, X_test, y_train, y_test = train_test_split(X, y, test_size=0.33, random_state=42)"
   ]
  },
  {
   "cell_type": "code",
   "execution_count": 19,
   "id": "84d8fb5d",
   "metadata": {},
   "outputs": [
    {
     "data": {
      "text/plain": [
       "(41, 3)"
      ]
     },
     "execution_count": 19,
     "metadata": {},
     "output_type": "execute_result"
    }
   ],
   "source": [
    "X_train.shape"
   ]
  },
  {
   "cell_type": "code",
   "execution_count": 20,
   "id": "900a7dc2",
   "metadata": {},
   "outputs": [
    {
     "data": {
      "text/plain": [
       "(21, 3)"
      ]
     },
     "execution_count": 20,
     "metadata": {},
     "output_type": "execute_result"
    }
   ],
   "source": [
    "X_test.shape"
   ]
  },
  {
   "cell_type": "code",
   "execution_count": 22,
   "id": "c688b565",
   "metadata": {},
   "outputs": [
    {
     "data": {
      "text/plain": [
       "(41,)"
      ]
     },
     "execution_count": 22,
     "metadata": {},
     "output_type": "execute_result"
    }
   ],
   "source": [
    "y_train.shape"
   ]
  },
  {
   "cell_type": "code",
   "execution_count": 23,
   "id": "96ee5f32",
   "metadata": {},
   "outputs": [
    {
     "data": {
      "text/plain": [
       "(21,)"
      ]
     },
     "execution_count": 23,
     "metadata": {},
     "output_type": "execute_result"
    }
   ],
   "source": [
    "y_test.shape"
   ]
  },
  {
   "cell_type": "markdown",
   "id": "d35d2569",
   "metadata": {},
   "source": [
    "#   Linear Regression"
   ]
  },
  {
   "cell_type": "code",
   "execution_count": 57,
   "id": "40b9ee28",
   "metadata": {},
   "outputs": [],
   "source": [
    "from sklearn.tree import DecisionTreeRegressor, export_graphviz\n",
    "from sklearn import tree\n",
    "from IPython.display import SVG\n",
    "from graphviz import Source\n",
    "from IPython.display import display"
   ]
  },
  {
   "cell_type": "code",
   "execution_count": 24,
   "id": "d5aa8401",
   "metadata": {},
   "outputs": [],
   "source": [
    "from sklearn.linear_model import LinearRegression"
   ]
  },
  {
   "cell_type": "code",
   "execution_count": 25,
   "id": "eeaac695",
   "metadata": {},
   "outputs": [
    {
     "data": {
      "text/html": [
       "<style>#sk-container-id-1 {color: black;background-color: white;}#sk-container-id-1 pre{padding: 0;}#sk-container-id-1 div.sk-toggleable {background-color: white;}#sk-container-id-1 label.sk-toggleable__label {cursor: pointer;display: block;width: 100%;margin-bottom: 0;padding: 0.3em;box-sizing: border-box;text-align: center;}#sk-container-id-1 label.sk-toggleable__label-arrow:before {content: \"▸\";float: left;margin-right: 0.25em;color: #696969;}#sk-container-id-1 label.sk-toggleable__label-arrow:hover:before {color: black;}#sk-container-id-1 div.sk-estimator:hover label.sk-toggleable__label-arrow:before {color: black;}#sk-container-id-1 div.sk-toggleable__content {max-height: 0;max-width: 0;overflow: hidden;text-align: left;background-color: #f0f8ff;}#sk-container-id-1 div.sk-toggleable__content pre {margin: 0.2em;color: black;border-radius: 0.25em;background-color: #f0f8ff;}#sk-container-id-1 input.sk-toggleable__control:checked~div.sk-toggleable__content {max-height: 200px;max-width: 100%;overflow: auto;}#sk-container-id-1 input.sk-toggleable__control:checked~label.sk-toggleable__label-arrow:before {content: \"▾\";}#sk-container-id-1 div.sk-estimator input.sk-toggleable__control:checked~label.sk-toggleable__label {background-color: #d4ebff;}#sk-container-id-1 div.sk-label input.sk-toggleable__control:checked~label.sk-toggleable__label {background-color: #d4ebff;}#sk-container-id-1 input.sk-hidden--visually {border: 0;clip: rect(1px 1px 1px 1px);clip: rect(1px, 1px, 1px, 1px);height: 1px;margin: -1px;overflow: hidden;padding: 0;position: absolute;width: 1px;}#sk-container-id-1 div.sk-estimator {font-family: monospace;background-color: #f0f8ff;border: 1px dotted black;border-radius: 0.25em;box-sizing: border-box;margin-bottom: 0.5em;}#sk-container-id-1 div.sk-estimator:hover {background-color: #d4ebff;}#sk-container-id-1 div.sk-parallel-item::after {content: \"\";width: 100%;border-bottom: 1px solid gray;flex-grow: 1;}#sk-container-id-1 div.sk-label:hover label.sk-toggleable__label {background-color: #d4ebff;}#sk-container-id-1 div.sk-serial::before {content: \"\";position: absolute;border-left: 1px solid gray;box-sizing: border-box;top: 0;bottom: 0;left: 50%;z-index: 0;}#sk-container-id-1 div.sk-serial {display: flex;flex-direction: column;align-items: center;background-color: white;padding-right: 0.2em;padding-left: 0.2em;position: relative;}#sk-container-id-1 div.sk-item {position: relative;z-index: 1;}#sk-container-id-1 div.sk-parallel {display: flex;align-items: stretch;justify-content: center;background-color: white;position: relative;}#sk-container-id-1 div.sk-item::before, #sk-container-id-1 div.sk-parallel-item::before {content: \"\";position: absolute;border-left: 1px solid gray;box-sizing: border-box;top: 0;bottom: 0;left: 50%;z-index: -1;}#sk-container-id-1 div.sk-parallel-item {display: flex;flex-direction: column;z-index: 1;position: relative;background-color: white;}#sk-container-id-1 div.sk-parallel-item:first-child::after {align-self: flex-end;width: 50%;}#sk-container-id-1 div.sk-parallel-item:last-child::after {align-self: flex-start;width: 50%;}#sk-container-id-1 div.sk-parallel-item:only-child::after {width: 0;}#sk-container-id-1 div.sk-dashed-wrapped {border: 1px dashed gray;margin: 0 0.4em 0.5em 0.4em;box-sizing: border-box;padding-bottom: 0.4em;background-color: white;}#sk-container-id-1 div.sk-label label {font-family: monospace;font-weight: bold;display: inline-block;line-height: 1.2em;}#sk-container-id-1 div.sk-label-container {text-align: center;}#sk-container-id-1 div.sk-container {/* jupyter's `normalize.less` sets `[hidden] { display: none; }` but bootstrap.min.css set `[hidden] { display: none !important; }` so we also need the `!important` here to be able to override the default hidden behavior on the sphinx rendered scikit-learn.org. See: https://github.com/scikit-learn/scikit-learn/issues/21755 */display: inline-block !important;position: relative;}#sk-container-id-1 div.sk-text-repr-fallback {display: none;}</style><div id=\"sk-container-id-1\" class=\"sk-top-container\"><div class=\"sk-text-repr-fallback\"><pre>LinearRegression()</pre><b>In a Jupyter environment, please rerun this cell to show the HTML representation or trust the notebook. <br />On GitHub, the HTML representation is unable to render, please try loading this page with nbviewer.org.</b></div><div class=\"sk-container\" hidden><div class=\"sk-item\"><div class=\"sk-estimator sk-toggleable\"><input class=\"sk-toggleable__control sk-hidden--visually\" id=\"sk-estimator-id-1\" type=\"checkbox\" checked><label for=\"sk-estimator-id-1\" class=\"sk-toggleable__label sk-toggleable__label-arrow\">LinearRegression</label><div class=\"sk-toggleable__content\"><pre>LinearRegression()</pre></div></div></div></div></div>"
      ],
      "text/plain": [
       "LinearRegression()"
      ]
     },
     "execution_count": 25,
     "metadata": {},
     "output_type": "execute_result"
    }
   ],
   "source": [
    "regressor=LinearRegression()\n",
    "regressor.fit(X_train,y_train)"
   ]
  },
  {
   "cell_type": "code",
   "execution_count": 26,
   "id": "c23809eb",
   "metadata": {},
   "outputs": [
    {
     "data": {
      "text/plain": [
       "array([-2.37073593,  0.01822789, -4.81037938])"
      ]
     },
     "execution_count": 26,
     "metadata": {},
     "output_type": "execute_result"
    }
   ],
   "source": [
    "regressor.coef_"
   ]
  },
  {
   "cell_type": "code",
   "execution_count": 27,
   "id": "67ca34cd",
   "metadata": {},
   "outputs": [
    {
     "data": {
      "text/plain": [
       "4561.643348019076"
      ]
     },
     "execution_count": 27,
     "metadata": {},
     "output_type": "execute_result"
    }
   ],
   "source": [
    "regressor.intercept_"
   ]
  },
  {
   "cell_type": "code",
   "execution_count": 28,
   "id": "d4447fd9",
   "metadata": {},
   "outputs": [
    {
     "data": {
      "text/plain": [
       "array([ 353.90650484, 2635.91422062,  103.85913787,  483.97743357,\n",
       "         19.69338956,  262.11445134,   25.55097172,  224.51196374,\n",
       "         26.35589606,  943.967924  ,  230.02749806,  306.9067482 ,\n",
       "        340.98903789,  412.96757664,  111.05415876, 1735.85375059,\n",
       "        322.17579718,   32.30594141,  145.25602912,  243.65763884,\n",
       "        275.03576575,   65.82543894, 2623.26600362,  447.69601939,\n",
       "       2778.59153995,   68.56023812,  245.65994638,  282.41982916,\n",
       "        397.43427043,   18.68523147, 1894.98796164,  424.50852352,\n",
       "        572.90212112,   34.57588538,  453.73519159, 2046.59203845,\n",
       "        221.80710724, 1265.79041337,  252.84490914,   29.79390159,\n",
       "        249.75159375])"
      ]
     },
     "execution_count": 28,
     "metadata": {},
     "output_type": "execute_result"
    }
   ],
   "source": [
    "y_pred = regressor.predict(X_train)\n",
    "y_pred"
   ]
  },
  {
   "cell_type": "code",
   "execution_count": 29,
   "id": "ab920904",
   "metadata": {},
   "outputs": [],
   "source": [
    "y_pred = regressor.predict(X_test)"
   ]
  },
  {
   "cell_type": "code",
   "execution_count": 30,
   "id": "77adc667",
   "metadata": {},
   "outputs": [
    {
     "data": {
      "text/plain": [
       "array([5.45633188e+01, 8.93761581e+01, 3.04772537e+03, 3.88354728e+01,\n",
       "       2.26962049e+03, 7.82923947e+01, 8.12854852e+02, 1.36799597e+03,\n",
       "       3.76628518e+02, 2.74058508e+01, 2.78253143e+02, 1.87114371e+03,\n",
       "       1.13777950e+02, 1.24311441e+03, 3.18510186e+02, 3.27692434e+02,\n",
       "       2.66001705e+03, 6.88359482e+02, 7.30698791e-01, 1.87304870e+03,\n",
       "       2.08804657e+03])"
      ]
     },
     "execution_count": 30,
     "metadata": {},
     "output_type": "execute_result"
    }
   ],
   "source": [
    "y_pred"
   ]
  },
  {
   "cell_type": "code",
   "execution_count": 36,
   "id": "49159bd3",
   "metadata": {},
   "outputs": [
    {
     "data": {
      "text/plain": [
       "1488.237820790752"
      ]
     },
     "execution_count": 36,
     "metadata": {},
     "output_type": "execute_result"
    }
   ],
   "source": [
    "mean_squared_error(y_pred,y_test)"
   ]
  },
  {
   "cell_type": "code",
   "execution_count": 39,
   "id": "8ec07470",
   "metadata": {},
   "outputs": [],
   "source": [
    "#math.sqrt(mean_squared_error(y_train, y_pred))"
   ]
  },
  {
   "cell_type": "code",
   "execution_count": 40,
   "id": "bb60f29d",
   "metadata": {},
   "outputs": [
    {
     "data": {
      "text/plain": [
       "38.57768552921173"
      ]
     },
     "execution_count": 40,
     "metadata": {},
     "output_type": "execute_result"
    }
   ],
   "source": [
    "math.sqrt(mean_squared_error(y_test, y_pred))"
   ]
  },
  {
   "cell_type": "code",
   "execution_count": 41,
   "id": "05281ab7",
   "metadata": {},
   "outputs": [
    {
     "data": {
      "text/plain": [
       "0.998449798407232"
      ]
     },
     "execution_count": 41,
     "metadata": {},
     "output_type": "execute_result"
    }
   ],
   "source": [
    "r2_score(y_test, y_pred)"
   ]
  },
  {
   "cell_type": "markdown",
   "id": "660341ea",
   "metadata": {},
   "source": [
    "#  Ridge & Lasso Regression"
   ]
  },
  {
   "cell_type": "code",
   "execution_count": 43,
   "id": "27e15d74",
   "metadata": {},
   "outputs": [],
   "source": [
    "from sklearn.linear_model import Ridge, RidgeCV\n",
    "from sklearn.linear_model import Lasso, LassoCV"
   ]
  },
  {
   "cell_type": "code",
   "execution_count": 45,
   "id": "d413a6ff",
   "metadata": {},
   "outputs": [
    {
     "name": "stdout",
     "output_type": "stream",
     "text": [
      "different alpha values: [   10   100  1000 10000]\n"
     ]
    }
   ],
   "source": [
    "alphas = 10 ** np.arange(1, 5)\n",
    "print('different alpha values:', alphas)\n",
    "\n",
    "# stores the weights of each feature\n",
    "ridge_weight = []\n",
    "for alpha in alphas:    \n",
    "    ridge = Ridge(alpha = alpha, fit_intercept = True)\n",
    "    ridge.fit(X_train, y_train)\n",
    "    ridge_weight.append(ridge.coef_)\n"
   ]
  },
  {
   "cell_type": "code",
   "execution_count": 46,
   "id": "841c18da",
   "metadata": {},
   "outputs": [
    {
     "data": {
      "text/plain": [
       "[array([-2.37657895,  0.01822986, -4.70128308]),\n",
       " array([-2.40467144,  0.01823958, -3.91468356]),\n",
       " array([-2.10998711,  0.0181483 , -1.56733441]),\n",
       " array([-0.71301441,  0.01770558, -0.26996062])]"
      ]
     },
     "execution_count": 46,
     "metadata": {},
     "output_type": "execute_result"
    }
   ],
   "source": [
    "ridge_weight"
   ]
  },
  {
   "cell_type": "code",
   "execution_count": 53,
   "id": "fc3c95c4",
   "metadata": {},
   "outputs": [
    {
     "data": {
      "text/plain": [
       "1264.1542451813366"
      ]
     },
     "execution_count": 53,
     "metadata": {},
     "output_type": "execute_result"
    }
   ],
   "source": [
    "ridge.intercept_"
   ]
  },
  {
   "cell_type": "code",
   "execution_count": 56,
   "id": "a323a7f8",
   "metadata": {},
   "outputs": [
    {
     "data": {
      "text/plain": [
       "array([-0.71301441,  0.01770558, -0.26996062])"
      ]
     },
     "execution_count": 56,
     "metadata": {},
     "output_type": "execute_result"
    }
   ],
   "source": [
    "ridge.coef_"
   ]
  },
  {
   "cell_type": "code",
   "execution_count": 59,
   "id": "c5ea95a7",
   "metadata": {},
   "outputs": [
    {
     "name": "stdout",
     "output_type": "stream",
     "text": [
      "different alpha values: [   10   100  1000 10000]\n"
     ]
    }
   ],
   "source": [
    "alphas = 10 ** np.arange(1, 5)\n",
    "print('different alpha values:', alphas)\n",
    "\n",
    "# stores the weights of each feature\n",
    "lasso_weight = []\n",
    "for alpha in alphas:    \n",
    "    lasso = Lasso(alpha = alpha, fit_intercept = True)\n",
    "    lasso.fit(X_train, y_train)\n",
    "    lasso_weight.append(lasso.coef_)\n"
   ]
  },
  {
   "cell_type": "code",
   "execution_count": 60,
   "id": "43755313",
   "metadata": {},
   "outputs": [
    {
     "data": {
      "text/plain": [
       "-145.80927869905588"
      ]
     },
     "execution_count": 60,
     "metadata": {},
     "output_type": "execute_result"
    }
   ],
   "source": [
    "lasso.intercept_"
   ]
  },
  {
   "cell_type": "code",
   "execution_count": 61,
   "id": "9ca79ef8",
   "metadata": {},
   "outputs": [
    {
     "data": {
      "text/plain": [
       "array([-0.        ,  0.01747395, -0.        ])"
      ]
     },
     "execution_count": 61,
     "metadata": {},
     "output_type": "execute_result"
    }
   ],
   "source": [
    "lasso.coef_"
   ]
  },
  {
   "cell_type": "code",
   "execution_count": 62,
   "id": "da39c81d",
   "metadata": {},
   "outputs": [],
   "source": [
    "def generate_random_data(size, seed):\n",
    "    \"\"\"Example of collinear features existing within the data\"\"\"\n",
    "    rstate = np.random.RandomState(seed)\n",
    "    X_seed = rstate.normal(0, 1, size)\n",
    "    X1 = X_seed + rstate.normal(0, .1, size)\n",
    "    X2 = X_seed + rstate.normal(0, .1, size)\n",
    "    X3 = X_seed + rstate.normal(0, .1, size)\n",
    "    y = X1 + X2 + X3 + rstate.normal(0, 1, size)\n",
    "    X = np.array([X1, X2, X3]).T\n",
    "    return X, y\n",
    "\n",
    "\n",
    "def pretty_print_linear(estimator, names = None, sort = False):\n",
    "    \"\"\"A helper method for pretty-printing linear models' coefficients\"\"\"\n",
    "    coef = estimator.coef_\n",
    "    if names is None:\n",
    "        names = ['X%s' % x for x in range(1, len(coef) + 1)]\n",
    "\n",
    "    info = zip(coef, names)\n",
    "    if sort:\n",
    "        info = sorted(info, key = lambda x: -np.abs(x[0]))\n",
    "    \n",
    "    output = ['{} * {}'.format(round(coef, 3), name) for coef, name in info]\n",
    "    output = ' + '.join(output)\n",
    "    return output"
   ]
  },
  {
   "cell_type": "code",
   "execution_count": 63,
   "id": "a906fc6c",
   "metadata": {},
   "outputs": [
    {
     "name": "stdout",
     "output_type": "stream",
     "text": [
      "Random seed: 0\n",
      "Lasso model: 0.486 * X1 + 1.508 * X2 + 0.0 * X3\n",
      "Ridge model: 0.938 * X1 + 1.059 * X2 + 0.877 * X3\n",
      "\n",
      "Random seed: 1\n",
      "Lasso model: 1.034 * X1 + 0.626 * X2 + 0.0 * X3\n",
      "Ridge model: 0.984 * X1 + 1.068 * X2 + 0.759 * X3\n",
      "\n",
      "Random seed: 2\n",
      "Lasso model: 1.361 * X1 + 0.0 * X2 + 0.782 * X3\n",
      "Ridge model: 0.972 * X1 + 0.943 * X2 + 1.085 * X3\n",
      "\n",
      "Random seed: 3\n",
      "Lasso model: 0.0 * X1 + 1.008 * X2 + 1.134 * X3\n",
      "Ridge model: 0.919 * X1 + 1.005 * X2 + 1.033 * X3\n",
      "\n",
      "Random seed: 4\n",
      "Lasso model: 0.27 * X1 + 0.0 * X2 + 1.832 * X3\n",
      "Ridge model: 0.964 * X1 + 0.982 * X2 + 1.098 * X3\n",
      "\n",
      "Random seed: 5\n",
      "Lasso model: 0.0 * X1 + 0.035 * X2 + 1.854 * X3\n",
      "Ridge model: 0.758 * X1 + 1.011 * X2 + 1.139 * X3\n",
      "\n",
      "Random seed: 6\n",
      "Lasso model: 0.486 * X1 + 0.0 * X2 + 1.601 * X3\n",
      "Ridge model: 1.016 * X1 + 0.89 * X2 + 1.091 * X3\n",
      "\n",
      "Random seed: 7\n",
      "Lasso model: 0.441 * X1 + 0.036 * X2 + 1.582 * X3\n",
      "Ridge model: 1.018 * X1 + 1.039 * X2 + 0.901 * X3\n",
      "\n",
      "Random seed: 8\n",
      "Lasso model: 0.28 * X1 + 1.974 * X2 + 0.0 * X3\n",
      "Ridge model: 0.907 * X1 + 1.071 * X2 + 1.008 * X3\n",
      "\n",
      "Random seed: 9\n",
      "Lasso model: 0.0 * X1 + 0.0 * X2 + 1.912 * X3\n",
      "Ridge model: 0.896 * X1 + 0.903 * X2 + 0.98 * X3\n",
      "\n"
     ]
    }
   ],
   "source": [
    "size = 100\n",
    "for seed in range(10):\n",
    "    print('Random seed:', seed)\n",
    "    X, y = generate_random_data(size, seed)\n",
    " \n",
    "    lasso = Lasso()\n",
    "    lasso.fit(X, y)\n",
    "    print('Lasso model:', pretty_print_linear(lasso))\n",
    " \n",
    "    ridge = Ridge(alpha = 10)\n",
    "    ridge.fit(X, y)\n",
    "    print('Ridge model:', pretty_print_linear(ridge))\n",
    "    print()\n"
   ]
  },
  {
   "cell_type": "markdown",
   "id": "4ee42e86",
   "metadata": {},
   "source": [
    "# THE  END"
   ]
  }
 ],
 "metadata": {
  "kernelspec": {
   "display_name": "Python 3 (ipykernel)",
   "language": "python",
   "name": "python3"
  },
  "language_info": {
   "codemirror_mode": {
    "name": "ipython",
    "version": 3
   },
   "file_extension": ".py",
   "mimetype": "text/x-python",
   "name": "python",
   "nbconvert_exporter": "python",
   "pygments_lexer": "ipython3",
   "version": "3.10.7"
  }
 },
 "nbformat": 4,
 "nbformat_minor": 5
}
